{
 "cells": [
  {
   "cell_type": "markdown",
   "metadata": {},
   "source": [
    "# Zadaća 2\n",
    "##### Rok za predaju: 10. ožujka, 2021. u 23:59h\n",
    "##### Način predaje: Teams->Strojno učenje->Assignment, predajete.ipynb datoteka (ili više datoteki u .zip) ili link na Google colab "
   ]
  },
  {
   "cell_type": "markdown",
   "metadata": {},
   "source": [
    "### Ime i prezime: "
   ]
  },
  {
   "cell_type": "code",
   "execution_count": 2,
   "metadata": {},
   "outputs": [],
   "source": [
    "import numpy as np \n",
    "import matplotlib.pyplot as plt\n",
    "import pandas as pd\n",
    "from sklearn.datasets import make_blobs, make_circles\n",
    "from sklearn import preprocessing\n",
    "from sklearn.preprocessing import scale\n",
    "from math import sqrt,inf"
   ]
  },
  {
   "cell_type": "markdown",
   "metadata": {},
   "source": [
    "## Zadatak 1 (5)\n",
    "Zadan vam je model perceptrona sa parametrima $\\theta =[\\theta_1 ,\\theta_2]= [2.5, 3]$. <br>\n",
    "Skicirajte (nacrtajte) klasifikacijsku hiperravninu (pravac) definiranu ovim parametrima. Klasificira li ispravno ovaj model sljedeće podatke\n",
    "$$X= [(0,-0.8), (-1,0), (-0.5, -0.5), (0,1), (0.5,0.8)]$$\n",
    "sa pripadnim oznakama klasa \n",
    "$$y = [-1,-1,-1,-1,1]. $$\n",
    "\n",
    "$\n",
    "\\theta_1 = 2.5, \\quad \\theta_2 = 3\\\\\n",
    "y_1 = -1\\\\\n",
    "X_1 = (0, -0.8)\\\\\n",
    "x_1 = 0, \\quad x_2 = -0.8\\\\\n",
    "sign(\\theta_1x_1+\\theta_2x_2) = sign(2.5*0 + 3 * (-0.8)) = sign(-2.4) = -1 = y_1\\\\\n",
    "y_2 = -1\\\\\n",
    "X_2 = (-1, 0)\\\\\n",
    "x_1 = -1, \\quad x_2 = 0\\\\\n",
    "sign(\\theta_1x_1+\\theta_2x_2) = sign(2.5*(-1) + 3 * 0) = sign(-2.5) = -1 = y_2\\\\\n",
    "y_3 = -1\\\\\n",
    "X_3 = (-0.5, -0.5)\\\\\n",
    "x_1 = -0.5, \\quad x_2 = -0.5\\\\\n",
    "sign(\\theta_1x_1+\\theta_2x_2) = sign(2.5*(-0.5) + 3 * (-0.5)) = sign(-2.75) = -1 = y_3\\\\\n",
    "y_4 = -1\\\\\n",
    "X_4 = (0, 1)\\\\\n",
    "x_1 = 0, \\quad x_2 = 1\\\\\n",
    "sign(\\theta_1x_1+\\theta_2x_2) = sign(2.5*0 + 3 * 1) = sign(3) = 1 \\neq y_4\\\\\n",
    "y_5 = -1\\\\\n",
    "X_4 = (0.5, 0.8)\\\\\n",
    "x_1 = 0.5, \\quad x_2 = 0.8\\\\\n",
    "sign(\\theta_1x_1+\\theta_2x_2) = sign(2.5*0.5 + 3 * 0.8) = sign(3.65) = 1 = y_5\\\\\n",
    "$\n"
   ]
  },
  {
   "cell_type": "code",
   "execution_count": null,
   "metadata": {},
   "outputs": [],
   "source": []
  },
  {
   "cell_type": "markdown",
   "metadata": {},
   "source": [
    "## Zadatak 2 (10)\n",
    "Kao što smo na vježbama radili, pomoću perceptrona implementirajte logičke XNOR, NAND. \n",
    "\n",
    "___"
   ]
  },
  {
   "cell_type": "code",
   "execution_count": 3,
   "metadata": {},
   "outputs": [
    {
     "data": {
      "image/png": "[encoded data removed]",
      "text/plain": [
       "<Figure size 432x288 with 1 Axes>"
      ]
     },
     "metadata": {
      "needs_background": "light"
     },
     "output_type": "display_data"
    }
   ],
   "source": [
    "# Vaš kod\n",
    "# XNOR\n",
    "X = np.array([[0,0],[0,1],[1,0], [1,1]])\n",
    "y = np.array([-1,1,1,-1])\n",
    "plt.scatter(X[:,0], X[:,1], c=y)\n",
    "plt.show()"
   ]
  },
  {
   "cell_type": "code",
   "execution_count": 4,
   "metadata": {},
   "outputs": [
    {
     "data": {
      "image/png": "[encoded data removed]",
      "text/plain": [
       "<Figure size 432x288 with 1 Axes>"
      ]
     },
     "metadata": {
      "needs_background": "light"
     },
     "output_type": "display_data"
    }
   ],
   "source": [
    "# NAND\n",
    "X = np.array([[0,0],[0,1],[1,0], [1,1]])\n",
    "y = np.array([1,1,1,-1])\n",
    "plt.scatter(X[:,0], X[:,1], c=y)\n",
    "plt.show()"
   ]
  },
  {
   "cell_type": "code",
   "execution_count": 5,
   "metadata": {},
   "outputs": [
    {
     "data": {
      "image/png": "[encoded data removed]",
      "text/plain": [
       "<Figure size 432x288 with 1 Axes>"
      ]
     },
     "metadata": {
      "needs_background": "light"
     },
     "output_type": "display_data"
    }
   ],
   "source": [
    "# NOR\n",
    "X = np.array([[0,0],[0,1],[1,0], [1,1]])\n",
    "y = np.array([1,-1,-1,-1])\n",
    "plt.scatter(X[:,0], X[:,1], c=y)\n",
    "plt.show()"
   ]
  },
  {
   "cell_type": "markdown",
   "metadata": {},
   "source": [
    "## Zadatak 3 (15+10)\n",
    "---\n",
    "Vaš zadatak će biti implementirati perceptron koji će rješavati problem klasifikacije podataka s obzirom na jednu od dvije klase $\\{ 1, -1\\}$.\n",
    "\n",
    "Na predavanju je pokazan perceptron algoritam za podatke koji su linearno separabilni kroz ishodište. Drugim riječima, definirali smo da su podaci $\\{ (x^{(i)}, y^{(i)}) : i=1,\\cdots,m\\}$ linearno separabilni kroz ishodište ako postoji $\\theta = [\\theta_1, \\cdots, \\theta_n]$ takav da je $y^{(i)} \\theta ^T x^{(i)} > 0$, $\\forall i = 1,\\cdots, m$. \n",
    "\n",
    "U zadaći želimo ovaj koncept generalizirati tako da separabilnost ne bude nužno kroz ishodište. <br>\n",
    "Tada možemo reći da će podaci  $\\{ (x^{(i)}, y^{(i)}) : i=1,\\cdots,m\\}$ biti linearno separabilni ako postoji $\\theta = [\\theta_0, \\theta_1, \\cdots, \\theta_n]$ takav da je $y^{(i)} \\theta ^T x^{(i)} > 0$, $\\forall i = 1,\\cdots, m$, pri čemu je svaki podatak oblika $x^{(i)} = [1, x_1^{(i)}, \\cdots, x_n^{(i)}]$.\n",
    "\n",
    "\n",
    "1. Implementirajte algoritam perceptrona koji na ulazu ima  argumente: $X \\in \\mathbb{R}^{(m\\times (n+1))} $ i $y \\in \\mathbb{R}^{(m\\times 1)} $, gdje je $m$ ukupan broj ulaznih podataka, a $n$ broj varijabli ulaznog podatka. <br> Algoritam treba vratiti vektor parametera $\\theta \\in \\mathbb{R}^{(n+1)\\times 1}$ i broj $k$ koji predstavlja koliko je puta ažurirana vrijednost $\\theta$. Kao što je pokazano na predavanju, algoritam treba ciklički prolaziti kroz podatke i prilagođavati parametre. \n",
    "\n",
    "2. Učitajte podatke koji su vam dani X_a.csv i y_a.csv te na njima pokrenite algoritam iz prethodnog zadatke. Ispište dobivenu vrijednost parametara $\\theta$ i broj ažuriranja $k$. To ponovite na podacima X_b.csv i y_b.csv\n",
    "\n",
    "_Dalje ćemo u zadacima govoriti paralelno za oba skupa podataka i uvesti oznake s indeksima $a$ tj. $b$ koje će se odnositi na podatke iz  X_a.csv tj. X_b.csv_\n",
    "\n",
    "\n",
    "3. Izračunajte vrijednosti $\\gamma_{geom}^a$ i  $\\gamma_{geom}^b$ vašeg klasifikatora, tj. najmanju udaljenost podatka do hiperravnine određene formulom $\\theta_a ^{T} x = 0$ odnosno hiperravnine $\\theta_b ^{T} x = 0$ za podatke iz drugog skupa. \n",
    "4.  Vizualizirajte podatke $X_a$ i dobiveni dobiveni pravac $\\theta_a x = 0$ te analogno podatke $X_b$ i pravac $\\theta_b x = 0$. Na oba grafička prikaza treba biti naznačeno pripadanje podataka jednoj od dvije klase. \n",
    "5. Na temelju zadatka 3. i 4. interpretirajte koji je od ova dva problema teži za klasificirati. \n",
    "6. U analizi ovog algoritma, napravljena je pretpotstavka o tome kako su norme svih podataka ograničene s nekim brojem $R$. Izračunajte te brojeve $R$ za vaše skupove podataka. "
   ]
  },
  {
   "cell_type": "code",
   "execution_count": 6,
   "metadata": {},
   "outputs": [
    {
     "name": "stdout",
     "output_type": "stream",
     "text": [
      "za X_a\n",
      "theta: [ 0.         -6.59938418  5.7945654 ]\n",
      "k: 28\n",
      "za X_b\n",
      "theta: [ 0.         -3.2544497   3.34146374]\n",
      "k: 6\n",
      "gama za X_a: 0.13854883509833746\n",
      "gama za X_b: 0.3038939535748039\n",
      "R za X_a: 0.7331315242157962\n",
      "R za X_b: 0.7443851221753095\n"
     ]
    },
    {
     "data": {
      "image/png": "[encoded data removed]",
      "text/plain": [
       "<Figure size 432x288 with 1 Axes>"
      ]
     },
     "metadata": {
      "needs_background": "light"
     },
     "output_type": "display_data"
    },
    {
     "data": {
      "image/png": "[encoded data removed]",
      "text/plain": [
       "<Figure size 432x288 with 1 Axes>"
      ]
     },
     "metadata": {
      "needs_background": "light"
     },
     "output_type": "display_data"
    }
   ],
   "source": [
    "# Vaš kod\n",
    "# 1.\n",
    "\n",
    "def condition(x, y, theta):\n",
    "    m  = y.shape[0]\n",
    "    for i in range(m):\n",
    "        if(y[i] * np.dot(theta,x[i]) <=0):\n",
    "            return True\n",
    "    return False\n",
    "\n",
    "def perceptron(x, y):\n",
    "    k = 0\n",
    "    m  = y.shape[0]\n",
    "    theta = np.zeros((1, x.shape[1]), float)\n",
    "    while(condition(x,y,theta)):\n",
    "        for i in range(m):\n",
    "            if(1 >= np.dot(theta, x[i]) / y[i]):\n",
    "                theta = theta + (y[i]*x[i])\n",
    "                k += 1\n",
    "    return (theta, k)\n",
    "\n",
    "def ploting(x, theta):\n",
    "    m = x.shape[0]\n",
    "    for i in range(m):\n",
    "        if x[i, 2] > (theta[0] + theta[1]*x[i,1]/(-theta[2])):\n",
    "            plt.scatter(x[i,1], x[i,2],c='blue')\n",
    "        else:\n",
    "            plt.scatter(x[i,1], x[i,2],c='red')\n",
    "    dom = np.arange(-2.8,2.8,0.01)\n",
    "    plt.plot(dom, (theta[0] + theta [1]*dom)/(-theta[2]))\n",
    "\n",
    "    \n",
    "def gama(x, theta):\n",
    "    dist = inf\n",
    "    m = x.shape[0]\n",
    "    for i in range(m):\n",
    "        tmp_dist = abs(((theta[1]/theta[2]) * x[i][1]) + x[i][2] + (theta[0]/theta[2])) / sqrt((pow(theta[1],2) / pow(theta[2],2)) + 1)\n",
    "        if (tmp_dist < dist):\n",
    "            dist = tmp_dist\n",
    "    return dist\n",
    "\n",
    "def calcR(k, gama):\n",
    "    return sqrt(k*pow(gama,2))\n",
    "\n",
    "def visualise(x):\n",
    "    m = x.shape[0]\n",
    "    for i in range(m):\n",
    "        plt.scatter(x[i,1], x[i,2], c='grey')\n",
    "    return \n",
    "    \n",
    "if __name__ == \"__main__\":\n",
    "    X_a = pd.read_csv('./X_a.csv')\n",
    "    y_a  = pd.read_csv('./y_a.csv')\n",
    "    matrix = np.ones((y_a.shape[0], 1), float)\n",
    "    tmp = scale(X_a)\n",
    "    matrix = np.column_stack([matrix, tmp])\n",
    "    y_a = scale(y_a)\n",
    "    atheta, ak = perceptron(matrix, y_a)\n",
    "    atheta = atheta[0]\n",
    "    X_b = pd.read_csv('./X_b.csv')\n",
    "    y_b = pd.read_csv('./y_b.csv')\n",
    "    matrixb = np.ones((y_a.shape[0], 1), float)\n",
    "    tmp = scale(X_b.to_numpy())\n",
    "    matrixb = np.column_stack([matrixb, tmp])\n",
    "    y_b = y_b.to_numpy()\n",
    "    btheta, bk = perceptron(matrixb, y_b)\n",
    "    btheta = btheta[0]\n",
    "    \n",
    "    # 2.\n",
    "    print('za X_a\\ntheta: {}\\nk: {}\\nza X_b\\ntheta: {}\\nk: {}'.format(atheta,ak,btheta,bk))\n",
    "    \n",
    "    # 3.\n",
    "    gama_a = gama(matrix, atheta)\n",
    "    gama_b = gama(matrixb, btheta)\n",
    "    print('gama za X_a: {}\\ngama za X_b: {}'.format(gama_a,gama_b))\n",
    "    \n",
    "    # 4.\n",
    "    plt.figure(0)\n",
    "    plt.title('X_a')\n",
    "    ploting(matrix, atheta)\n",
    "    plt.figure(1)\n",
    "    plt.title('X_b')\n",
    "    ploting(matrixb, btheta)\n",
    "    \n",
    "    # 5. Teži problem za klasificirati je X_a jer su podatci grupirani bliže i gama od X_a je manji od gama X_b\n",
    "    \n",
    "    # 6.\n",
    "    R_a = calcR(ak, gama_a)\n",
    "    R_b = calcR(bk, gama_b)\n",
    "    print('R za X_a: {}\\nR za X_b: {}'.format(R_a,R_b))"
   ]
  },
  {
   "cell_type": "markdown",
   "metadata": {},
   "source": [
    "## Zadatak 4 (10)\n",
    "U datotekama i su vam zadani podaci koje koje je potrebno klasificirati perceptron algoritmom. \n",
    "1. Učitajte podatke 2X_a, 2y_a vizualizirajte ih. \n",
    "2. Odredite kojom biste klasom funkcija mogli separirati ove podatke. Parametre funkcije iz te klase trebate pronaći koristeći perceptron algoritam koji ste implementirali. \n",
    "___"
   ]
  },
  {
   "cell_type": "code",
   "execution_count": null,
   "metadata": {},
   "outputs": [
    {
     "name": "stdout",
     "output_type": "stream",
     "text": [
      "theta za 2X_a: [ 0.         -5.29798853 -0.19669655]\n"
     ]
    }
   ],
   "source": [
    "# Vaš kod\n",
    "\n",
    "def polarise_coordinates(x):\n",
    "    m = x.shape[0]\n",
    "    for i in range(m):\n",
    "        x[i, 1] = sqrt(pow(x[i,1], 2) + pow(x[i, 2], 2))\n",
    "        x[i, 2] = np.arctan((x[i, 2]/x[i,1]))\n",
    "    return x\n",
    "\n",
    "# a)\n",
    "X_a2 = pd.read_csv('./2X_a.csv')\n",
    "y_a2 = pd.read_csv('./2y_a.csv')\n",
    "   \n",
    "matrix2a = np.ones((y_a2.shape[0], 1), float)\n",
    "tmp = scale(X_a2)\n",
    "matrix2a = np.column_stack([matrix2a, tmp])\n",
    "y_a2 = scale(y_a2)\n",
    "plt.figure(4)\n",
    "plt.title('2X_a')\n",
    "visualise(matrix2a)\n",
    "\n",
    "# b) \n",
    "x2apol = polarise_coordinates(matrix2a)\n",
    "x2apol = scale(x2apol)\n",
    "    \n",
    "theta2a = perceptron(x2apol, y_a2)\n",
    "theta2a = theta2a[0][0]\n",
    "    \n",
    "print('theta za 2X_a: {}'.format(theta2a))\n"
   ]
  },
  {
   "cell_type": "markdown",
   "metadata": {},
   "source": [
    "## Zadatak 5 (10):\n",
    "Nadogradite implementaciju perceptron algoritma tako da u svakoj iteraciji vizualizirate podatke i dobiveni pravac koji separira te podatke. <br>\n",
    "Pokrenite algoritam na podacima koje ćete dobiti koristeći ugrađenu funkciju iz scikit-learn *make_blobs* sa sljedećim parametrima: <br>make_blobs(n_samples=500, n_features=2, centers=2, random_state=4).\n",
    "\n",
    "Opišite dobiveni rezultat. "
   ]
  },
  {
   "cell_type": "code",
   "execution_count": null,
   "metadata": {},
   "outputs": [],
   "source": [
    "# Vaš kod\n"
   ]
  },
  {
   "cell_type": "code",
   "execution_count": null,
   "metadata": {},
   "outputs": [],
   "source": []
  },
  {
   "cell_type": "code",
   "execution_count": null,
   "metadata": {},
   "outputs": [],
   "source": []
  }
 ],
 "metadata": {
  "kernelspec": {
   "display_name": "Python 3",
   "language": "python",
   "name": "python3"
  },
  "language_info": {
   "codemirror_mode": {
    "name": "ipython",
    "version": 3
   },
   "file_extension": ".py",
   "mimetype": "text/x-python",
   "name": "python",
   "nbconvert_exporter": "python",
   "pygments_lexer": "ipython3",
   "version": "3.8.5"
  }
 },
 "nbformat": 4,
 "nbformat_minor": 4
}
