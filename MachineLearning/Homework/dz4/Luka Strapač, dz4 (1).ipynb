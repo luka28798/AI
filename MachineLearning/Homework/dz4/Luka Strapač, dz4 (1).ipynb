{
 "cells": [
  {
   "cell_type": "markdown",
   "metadata": {},
   "source": [
    "---\n",
    "# Zadaća 4\n",
    "##### Rok za predaju: 24. ožujka, 2021. u 23:59h\n",
    "##### Način predaje: Teams->Strojno učenje->Assignment, predajete.ipynb datoteka (ili više datoteki u .zip) ili link na Google colab "
   ]
  },
  {
   "cell_type": "markdown",
   "metadata": {},
   "source": [
    "### Ime i prezime: Luka Strapač\n",
    "\n",
    "---"
   ]
  },
  {
   "cell_type": "code",
   "execution_count": 69,
   "metadata": {},
   "outputs": [],
   "source": [
    "import numpy as np\n",
    "import matplotlib.pyplot as plt\n",
    "import pandas as pd\n",
    "from sklearn.model_selection import train_test_split\n",
    "from sklearn.linear_model import LogisticRegression\n",
    "from sklearn.preprocessing import scale\n",
    "from sklearn.metrics import confusion_matrix, accuracy_score, recall_score, precision_score\n",
    "from random import randrange\n",
    "# ..."
   ]
  },
  {
   "cell_type": "markdown",
   "metadata": {},
   "source": [
    "---\n",
    "---\n",
    "## Zadatak 1 (10)\n",
    "\n",
    "Pokažite ekvivalenciju kriterijskih funkcija $J_1(\\theta)=\\frac{1}{m}\\sum\\limits_{i=1}^{m}\\log(1+e^{-y^{(i)}\\theta^Tx^{(i)}}), \\; gdje\\; je \\; y^{(i)}\\in\\{-1,1\\}$ i \n",
    "$$J_2(\\theta) = -\\frac{1}{m}\\sum\\limits_{i=1}^{m}(y^{(i)}\\log{(h_{\\theta}(x^{(i)})+(1-y^{(i)})\\log{(1-h_{\\theta}(x^{(i)}))})}, \\; gdje\\; je\\; y^{(i)}\\in \\{0,1\\}.$$\n",
    "\n"
   ]
  },
  {
   "cell_type": "markdown",
   "metadata": {},
   "source": [
    "# Vas odgovor ovdje\n",
    "\n",
    "$$\n",
    "J_2(\\theta) = -\\frac{1}{m}\\sum\\limits_{i=1}^{m}(\\log{((h_{\\theta}(x^{(i)}))^{y^{(i)}})+\\log{(h_{\\theta}(-x^{(i)}))^{(1-y^{(i)})}})}\\\\\n",
    "= -\\frac{1}{m}\\sum\\limits_{i=1}^{m}\\log{(h_{\\theta}(x^{(i)})^{y^{(i)}}\\cdot\\frac{h_{\\theta}(-x^{(i)})}{h_{\\theta}(-x^{(i)})^{y^{(i)}}}})\\\\\n",
    "= -\\frac{1}{m}\\sum\\limits_{i=1}^{m}\\log{(\\frac{1}{1+e^{\\theta^Tx^{(i)}}}\\cdot(\\frac{1+e^{\\theta^Tx^{(i)}}}{1+e^{-\\theta^Tx^{(i)}}})^{y^{(i)}})}\\\\\n",
    "= -\\frac{1}{m}\\sum\\limits_{i=1}^{m}\\log{(\\frac{1}{1+e^{\\theta^Tx^{(i)}}}\\cdot e^{y^{(i)}\\theta^Tx^{(i)}})}\\\\\n",
    "= -\\frac{1}{m}\\sum\\limits_{i=1}^{m}\\log{(\\frac{1}{e^{-y^{(i)}\\theta^Tx^{(i)}}+e^{(1-y^{(i)})\\theta^Tx^{(i)}}})}\\\\\n",
    "= -\\frac{1}{m}\\sum\\limits_{i=1}^{m}\\log{(e^{-y^{(i)}\\theta^Tx^{(i)}}+e^{(1-y^{(i)})\\theta^Tx^{(i)}})}, \\quad  y^{(i)} \\in {0,1}\\\\\n",
    "J1 = J2 \\\\\n",
    "y_1^{(i)} = -1 \\quad y_2^{(i)} = 0\\\\\n",
    "\\frac{1}{m}\\sum\\limits_{i=1}^{m}(1+e^{\\theta^Tx^{(i)}}) = \\frac{1}{m}\\sum\\limits_{i=1}^{m}(1+e^{\\theta^Tx^{(i)}})\\\\\n",
    "y_1^{(i)} = 1 \\quad y_2^{(i)} = 1\\\\\n",
    "\\frac{1}{m}\\sum\\limits_{i=1}^{m}(1+e^{-\\theta^Tx^{(i)}}) = \\frac{1}{m}\\sum\\limits_{i=1}^{m}(e^{-\\theta^Tx^{(i)}}+1)\\\\\n",
    "\\Rightarrow funkcije \\quad su \\quad ekvivalentne\n",
    "$$"
   ]
  },
  {
   "cell_type": "markdown",
   "metadata": {},
   "source": [
    "---\n",
    "---\n",
    "## Zadatak 2 (20)\n",
    "\n",
    "Neka su zadani podaci $X\\in \\mathbb{R}^{m\\times n}$ i pripadne izlazne vrijednosti $y \\in \\mathbb{R}^{m\\times k}$ koje označavaju pripadnost nekog podatka jednoj od klasa $0, 1, \\cdots, k$. Na ovim podacima možemo provesti proces učenja klasifikacijskog modela. Jedan od takvh modela je logistička regresija. <br>\n",
    "Logistička regresija kao model funkciju koristi $h_{\\theta}(x) = \\frac{1}{1+e^{-\\theta ^T x}}$, gdje su $\\theta$ parametri koje model uči. <br>\n",
    "Znamo kako se učenje svodi na minimizaciju funkcije $J(\\theta) = \\frac{1}{m}\\sum\\limits_{i=1}^m [-y^{(i)}\\log{(h_{\\theta}(x^{(i)}))} - (1-y^{(i)})\\log{(1-h_{\\theta}(x^{(i)}))}]$ te kako do rješenje tog minimizacijskog problema možemo doći gradijentnom metodom.\n",
    "\n",
    "\n",
    "1. Implementirajte gradijentnu metodu za slučaj binarne klasifikacije ($k=2$). Neka vaša funkcija koja pokreće gradijentnu metodu kao argumente prima stopu učenja $\\alpha$ i broj iteracija metode.\n",
    "2. Isprobajte vašu implementaciju na danom skupu podataka ..\n",
    "\n",
    "---\n",
    "U datoteci *heart_data.csv* nalaze se podaci o pacijentima vezani uz zdravlje njihovog krvožilnog sustava i srca. Svakom pacijentu su navedene godine, spol i podaci koji dolaze iz mjerenja poput razine kolesterola, maksimalni otkucaj srca i slično. Osim toga svakom je pacijentu pridružena oznaka $0$ ako ne boluje od srčanih bolesti tj. zdrav je i $1$ ako ima srčanu bolest. <br>\n",
    "- Istražite i pripremite ih za učenje modela. (Učitajte, skalirajte, vizualizirajte ) \n",
    "- Postavite model logističke regresije koristeći implementaciju iz prethodnog zadatka. \n",
    "- Model je potrebno učiti na $70\\%$ podataka, a zatim ga testirati na preostalih $30\\%$ podataka. \n",
    "- Kako biste ocijenili model koristite metrike koje smo upoznali na vježbama.\n"
   ]
  },
  {
   "cell_type": "code",
   "execution_count": 108,
   "metadata": {},
   "outputs": [
    {
     "name": "stdout",
     "output_type": "stream",
     "text": [
      "[[ 7.43491303]\n",
      " [-5.2014506 ]]\n"
     ]
    }
   ],
   "source": [
    "# 2.2.\n",
    "test_x = np.array([[-30,8],[3,-37],[-17,18],[-22, 9],[-1,-25],[21,3],[8,-10],[0,-12],[-0,-18],[-2,15],[-3,-23],[3,-16],[27,-24],[-16,15],[-13,-13],[-3,6],[23,10],[ 12,17],[3,4],[-8,22]])\n",
    "text_y = np.array([0, 1, 0, 0, 1, 1, 1, 1, 1, 0, 0, 1, 1, 0, 1, 0, 1, 0, 0, 0])\n",
    "\n",
    "np.seterr(divide = 'ignore') \n",
    "\n",
    "def g(z):\n",
    "    return (1.0/(1.0 + np.exp(-z)))\n",
    "\n",
    "def lossf(X,y,theta):\n",
    "    return -(1/X.shape[0])*np.sum(y*np.log(1/g(X.dot(theta))) + (1-y)*np.log(1-g(X.dot(theta))))\n",
    "\n",
    "def gradientMethod(X, y, num_iters):\n",
    "    m, n = X.shape\n",
    "    alpha = 1\n",
    "    theta = np.zeros((n,1))\n",
    "    for k in range(num_iters):\n",
    "        i = np.random.randint(m)\n",
    "        if y[i]*(theta.T.dot(X[i])) <= 1:\n",
    "            theta = theta + alpha*y[i]*X[i].reshape(-1,1)\n",
    "        alpha = 1/(k+1)\n",
    "    return theta\n",
    "\n",
    "print(gradientMethod(test_x, text_y, 1000))\n",
    "\n"
   ]
  },
  {
   "cell_type": "code",
   "execution_count": 109,
   "metadata": {},
   "outputs": [
    {
     "name": "stdout",
     "output_type": "stream",
     "text": [
      "0.8666666666666667\n",
      "0.7777777777777778\n",
      "0.9259259259259259\n",
      "0.875\n"
     ]
    }
   ],
   "source": [
    "# Vas kod\n",
    "data = pd.read_csv(\"heart_data.csv\")\n",
    "data = data.dropna()\n",
    "\n",
    "X = np.array(data[['Age', 'Sex', 'Chest_Pain', 'Resting_Blood_Pressure','Colestrol', 'Fasting_Blood_Sugar', 'Rest_ECG', 'MAX_Heart_Rate', \n",
    "                 'Exercised_Induced_Angina', 'ST_Depression','Slope','Major_Vessels', 'Thalessemia']])\n",
    "y = np.array(data[['Target']])\n",
    "\n",
    "X = scale(X)\n",
    "\n",
    "\n",
    "X_train, X_test, Y_train, Y_test = train_test_split(X, y, test_size=0.3)\n",
    "log = LogisticRegression()\n",
    "log.fit(X_train,Y_train.ravel())\n",
    "log.score(X_train,Y_train.ravel())\n",
    "\n",
    "theta = gradientMethod(X_train, Y_train, 1000)\n",
    "y_pred = log.predict(X_test)\n",
    "tn, fp, fn, tp = confusion_matrix(Y_test, y_pred).ravel()\n",
    "spec_score = tn/(tn+fp)\n",
    "print(accuracy_score(Y_test,y_pred))\n",
    "print(recall_score(Y_test, y_pred))\n",
    "print(spec_score)\n",
    "print(precision_score(Y_test,y_pred))\n"
   ]
  },
  {
   "cell_type": "markdown",
   "metadata": {},
   "source": [
    "---\n",
    "---\n",
    "## Zadatak 3 (10)\n",
    "Na predavanju je predstavljena softmax regresija i dana je kriterijska funkcija $$\n",
    "J(\\theta) = - \\sum\\limits_{i=1}^{m} \\sum\\limits_{j=1}^{k} I^{j}(y^{(i)})\\log{\\frac{e^{\\theta^{(j)^T}x^{(i)}}}{\\sum\\limits_{l=1}^{k}e^{\\theta^{(l)^{T}}x^{(i)}}}}\n",
    "$$\n",
    "Raspišite gradijent funkcije $J(\\theta)$. \n",
    "---"
   ]
  },
  {
   "cell_type": "markdown",
   "metadata": {},
   "source": [
    "Vaš odgovor:\n",
    "\n",
    "$\n",
    "\\nabla_{\\theta} J =\n",
    "\\begin{bmatrix}\n",
    "\\vdots & \\vdots & \\cdots & \\vdots\\\\\n",
    "\\nabla_{\\theta^{(1)}}J(\\theta) & \\nabla_{\\theta^{(2)}}J(\\theta) & \\cdots & \\nabla_{\\theta^{(k)}}J(\\theta)\\\\\n",
    "\\vdots & \\vdots & \\cdots & \\vdots\\\\\n",
    "\\end{bmatrix}\\\\\n",
    "\\nabla_{\\theta^{(r)}} J =\n",
    "\\begin{bmatrix}\n",
    "\\frac {\\partial J(\\theta)}{\\partial \\theta_{1r}}\\\\\n",
    "\\frac {\\partial J(\\theta)}{\\partial \\theta_{2r}}\\\\\n",
    "\\vdots \\\\\n",
    "\\frac {\\partial J(\\theta)}{\\partial \\theta_{mr}}\\\\\n",
    "\\end{bmatrix} \\\\\n",
    "\\nabla_{\\theta^{(r)}} J(\\theta) = -\\sum\\limits_{i=1}^{m}\\sum\\limits_{j=1}^{k}I^j(y^{(i)})(log{\\frac{e^{\\theta^{(j)^T}x^{(i)}}}{\\sum\\limits_{l=1}^{k} e^{\\theta^{(l)^T}x^{(i)}}}})'\\\\\n",
    "= -\\sum\\limits_{i=1}^{m}\\sum\\limits_{j=1}^{k}I^j(y^{(i)}){\\frac{\\sum\\limits_{l=1}^{k} e^{\\theta^{(l)^T}x^{(i)}}}{e^{\\theta^{(j)^T}x^{(i)}}}}\\cdot \\frac{(\\theta^{(j)}x^{(i)})e^{\\theta^{(l)^T}x^{(i)}}\\cdot\\sum\\limits_{l=1}^{k} e^{\\theta^{(l)^T}x^{(i)}}-e^{\\theta^{(l)^T}x^{(i)}}\\cdot x^{(i)}e^{\\theta^{(r)^T}}x^{(i)}}{(\\sum\\limits_{l=1}^{k} e^{\\theta^{(l)^T}x^{(i)}})^2}\\\\\n",
    "=-\\sum\\limits_{i=1}^{m}\\sum\\limits_{j=1}^{k}I^j(y^{(i)})\\cdot x^{(i)} \\cdot (I^r(j)-\\frac{e^{\\theta^{(r)^T}x^{(i)}}}{\\sum\\limits_{l=1}^{k} e^{\\theta^{(l)^T}x^{(i)}}})\\\\\n",
    "= -\\sum\\limits_{i=1}^{m}x^{(i)}\\sum\\limits_{j=1}^{k}I^j(y^{(i)})\\cdot \n",
    "(I^r(j) - P(y^{(i)}=r|x^{(i)},\\theta))\\\\\n",
    "=-\\sum\\limits_{i=1}^{m}x^{(i)}\\cdot (I^r(y^{(i)})-P(y^{(i)}=r|x^{(i)}, \\theta)) $"
   ]
  },
  {
   "cell_type": "markdown",
   "metadata": {},
   "source": [
    "---\n",
    "---\n",
    "## Zadatak 4 (20)\n",
    "\n",
    "\n",
    "#### a)\n",
    "Neka su zadani podaci $X\\in \\mathbb{R}^{m\\times n}$ i pripadne izlazne vrijednosti $y\\in \\mathbb{R}^{m\\times k}$ koje označavaju pripadnost nekog podatka jednoj od klasa $0, 1, \\cdots, k$. Na ovim podacima možemo provesti proces učenja klasifikacijskog modela.<br>\n",
    "Budući da se radi o višeklasnoj klasifikaciji, koristit ćemo *softmax* funkciju.<br> \n",
    "Kao i do sada, učenje se svodi na minimizaciju funkcije \n",
    "$$\n",
    "J(\\theta) = - \\sum\\limits_{i=1}^{m} \\sum\\limits_{j=1}^{k} I^{j}(y^{(i)})\\log{\\frac{e^{\\theta^{(j)^T}x^{(i)}}}{\\sum\\limits_{l=1}^{k}e^{\\theta^{(l)^{T}}x^{(i)}}}}\n",
    "$$\n",
    "te kako do rješenja tog minimizacijskog problema možemo doći gradijentnom metodom. <br>\n",
    "\n",
    "1. Implementirajte gradijentnu metodu za općeniti slučaj klasifikacije. Neka vaša funkcija koja pokreće gradijentnu metodu kao argumente prima stopu učenja $\\alpha$ i broj iteracija metode.\n",
    "2. Isprobajte implementiranu funkciju na podacima $data\\_examples.csv$. Odaberite proizvoljno stopu učenja $\\alpha$ i broj iteracija. \n",
    "3. Nacrtajte graf promjene vrijednosti funkcije troška kroz iteracije i ispišite vrijednost funkcije troška u zadnjoj iteraciji. \n",
    "\n",
    "---\n",
    "#### b)\n",
    "Zadani su vam podaci koji se nalaze u direktoriju *Mobiteli* <br>\n",
    "\n",
    "Ovaj skup sadrži podatke o mobitelima - njihove karakteristike i cjenovne rangove. Svaki uzorak (mobitel) je opisan kroz $20$ različitih varijabli. Varijable su kategoričke poput $dual\\_sim$ koja poprima vrijednosti $0$ i $1$ ili numeričke poput $clock\\_speed$. $18$ varijabli je tipa **int**,a $2$ su tipa **float**. <br>\n",
    "\n",
    "Svaki mobitel je klasificiran u jedan cjenovni razred koji može biti $1$, $2$ ili $3$. <br>\n",
    "\n",
    "\n",
    "Potrebno je upoznati se sa skupom podataka, analizirati ga koristeći neke kvantitativne ili grafičke tehnike.<br> \n",
    "Glavni zadatak je vidjeti može li se na temelju različitih karakteristika mobitel odrediti njegov cjenovni razred. <br>\n",
    "\n",
    "\n",
    "Koristeći *softmax* implementaciju iz a) podzadatka riješite ovaj problem tako da ćete \n",
    "1. Podatke istražiti i pripremiti ih za učenje modela. (Učitajte, skalirajte, vizualizirajte ) \n",
    "1. Model učiti na train.csv\n",
    "2. Model testirati na test.csv i ispisati matricu zabune, točnost (accuracy)"
   ]
  },
  {
   "cell_type": "code",
   "execution_count": 106,
   "metadata": {},
   "outputs": [
    {
     "name": "stdout",
     "output_type": "stream",
     "text": [
      "[[-2.14816633  2.14816633]\n",
      " [-1.90159901  1.90159901]]\n",
      "3.6240231078511806\n"
     ]
    }
   ],
   "source": [
    "# Vaš kod\n",
    "#a)\n",
    "\n",
    "def h(theta,x):\n",
    "    k = np.array(x.dot(theta),dtype=np.float64)\n",
    "    br = np.exp(k)\n",
    "    naz = np.nansum(br)\n",
    "    return br/naz\n",
    "\n",
    "\n",
    "def softMax(X,y,alpha,num_iter):\n",
    "    k = np.max(y) + 1\n",
    "    k = int(k)\n",
    "    m = X.shape[0]\n",
    "    n = X.shape[1]\n",
    "    lossfs = []\n",
    "    theta = np.zeros((n,k))\n",
    "    for i in range(num_iter):\n",
    "        j = randrange(0,m)\n",
    "        \n",
    "        a = np.zeros((1,k))\n",
    "        a[0,int(y[j])] = 1\n",
    "        \n",
    "        theta= theta+alpha*(np.reshape(X[j],(n,1)).dot(a-h(theta,X[j])))\n",
    "        lossfs.append(lossf(X,y,theta))\n",
    "    return theta, lossfs\n",
    "\n",
    "data = pd.read_csv(\"data_examples_2.csv\")\n",
    "X = np.array(data[['x1', 'x2']])\n",
    "X = scale(X)\n",
    "y = np.array(data['y']).reshape(-1,1)\n",
    "\n",
    "y = scale(y)\n",
    "\n",
    "a, b = softMax(X,y,0.1, 1000)\n",
    "print(a)\n",
    "print(b[-1])"
   ]
  },
  {
   "cell_type": "code",
   "execution_count": 107,
   "metadata": {},
   "outputs": [
    {
     "data": {
      "text/plain": [
       "Text(0, 0.5, 'Trošak')"
      ]
     },
     "execution_count": 107,
     "metadata": {},
     "output_type": "execute_result"
    },
    {
     "data": {
      "image/png": "[encoded data removed]",
      "text/plain": [
       "<Figure size 1440x720 with 1 Axes>"
      ]
     },
     "metadata": {
      "needs_background": "light"
     },
     "output_type": "display_data"
    }
   ],
   "source": [
    "plt.figure(figsize=(20,10))\n",
    "plt.plot(np.arange(1, len(b)+1),b, linewidth = 10)\n",
    "plt.title(\"Ovisnost funkcije troška o iteracijama\")\n",
    "plt.xlabel(\"Iteracije\")\n",
    "plt.ylabel(\"Trošak\")"
   ]
  },
  {
   "cell_type": "code",
   "execution_count": null,
   "metadata": {},
   "outputs": [],
   "source": []
  }
 ],
 "metadata": {
  "kernelspec": {
   "display_name": "Python 3",
   "language": "python",
   "name": "python3"
  },
  "language_info": {
   "codemirror_mode": {
    "name": "ipython",
    "version": 3
   },
   "file_extension": ".py",
   "mimetype": "text/x-python",
   "name": "python",
   "nbconvert_exporter": "python",
   "pygments_lexer": "ipython3",
   "version": "3.8.5"
  }
 },
 "nbformat": 4,
 "nbformat_minor": 4
}
