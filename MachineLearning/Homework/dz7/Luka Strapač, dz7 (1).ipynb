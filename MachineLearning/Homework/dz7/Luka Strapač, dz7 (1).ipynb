{
 "cells": [
  {
   "cell_type": "markdown",
   "metadata": {},
   "source": [
    "---\n",
    "# Zadaća 7\n",
    "##### Rok za predaju: 5. svibnja, 2021. u 23:59h\n",
    "##### Način predaje: Teams->Strojno učenje->Assignment, predajete.ipynb datoteka (ili više datoteki u .zip) ili link na Google colab "
   ]
  },
  {
   "cell_type": "markdown",
   "metadata": {},
   "source": [
    "### Ime i prezime: \n",
    "\n",
    "---"
   ]
  },
  {
   "cell_type": "markdown",
   "metadata": {},
   "source": [
    "## Zadatak 1\n",
    "\n",
    "Zadana vam je neuronska mreža (slika ispod). Aktivacijska funkcija $g(.)$ u skrivenom sloju je sigmoid funkcija. Pokažite da postoji ekvivalentna neuronska mreža koja u skrivenom sloju umjesto sigmoid aktivacijske funkcije ima $tanh$ aktivacijsku funkciju. Raspišite to. \n",
    "\n",
    "\n",
    "\n",
    "<img src=\"./zadatak1.png\" width=\"50%\">\n",
    "<center>Slika 2. model neuronske mreže</center>\n",
    "\n",
    "\n",
    "Pomoć (pratite sljedeće korake) : \n",
    "- Raspišite kako izgleda aktivacija $a_1^{(3)}$ prateći oznake uvedene gore\n",
    "- Pronađite povezanost između funkcije sigmoid i $tanh$ (raspišite)\n",
    "- Kada dvije gornje informacije spojite, imate sljedeće - ako je $y_T = a_1^{(3)}$ rezultat dobiven neuronskom mrežom u kojoj ste koristili $tanh$ funkciju, a $y_S = a_1^{(3)}$ rezultat dobiven neuronskom mrežom u kojoj ste koristili sigmoid, tada možete pronaći vezu između ta dva rezultata tako da parametre jedne mreže zapišete kao linearnu kombinaciju parametara druge mreže. <br>"
   ]
  },
  {
   "cell_type": "markdown",
   "metadata": {},
   "source": [
    "# Vaš odgovor\n",
    "\n",
    "$\n",
    "aktivacija \\quad a_1^{(3)} \\\\\n",
    "a_1^{(2)} = g(w_{10}^{(1)}+w_{11}^{(1)}x_1+w_{12}^{(1)}x_2) \\\\\n",
    "a_2^{(2)} = g(w_{20}^{(1)}+w_{21}^{(1)}x_1+w_{22}^{(1)}x_2) \\\\\n",
    "a_1^{(3)} = g(w_{10}^{(2)}+w_{11}^{(2)}a_1^{(2)}+w_{12}^{(2)}a_2^{(2)}) \\\\\n",
    "Povezanost \\quad sigmoid \\quad tanh\\\\\n",
    "\\sigma(x) = \\frac{1}{1+e^{-x}}\\\\\n",
    "tanh(x) = \\frac{e^x - e^{-x}}{e^x + e^{-x}} = \\frac{e^x - e^{-x} + e^{-x} - e^{-x}}{e^x + e^{-x}} = \\frac{e^x + e^{-x} - 2e^{-x}}{e^x + e^{-x}} = 1 - \\frac{2e^{-x}}{e^x + e^{-x}} = 1 - \\frac{2e^{-x}}{e^{-x}(e^{2x}+1)} = 1 - \\frac{2}{e^{2x}+1} = 1 - 2\\sigma(-2x) = 1 - 2(1 - \\sigma(2x)) = 2\\sigma(2x) - 1\\\\\n",
    "$\n",
    "Ako umjesto g pišemo tanh, parametre označimo s $\\theta_T$ i neka je $a^{(2)} = \\begin{bmatrix}\n",
    "1\\\\\n",
    "a_1^{(2)}\\\\\n",
    "a_2^{(2)}\n",
    "\\end{bmatrix}$ dobijemo\n",
    "$a_1^{(3)} = tanh(\\theta_T^T a^{(2)}) = 2\\sigma(2\\theta_T^T a^{(2)}) - 1 = \\sigma(\\theta_S^T a^{(2)})$"
   ]
  },
  {
   "cell_type": "markdown",
   "metadata": {},
   "source": [
    "---\n",
    "## Zadatak 2\n",
    "Modelirajte logčki 'XOR'. Nacrtajte neuronsku mrežu i zapišite parametre $\\theta$ s kojima bi dobro modelirali ponašanje operatora."
   ]
  },
  {
   "cell_type": "markdown",
   "metadata": {},
   "source": [
    "# Vaš odgovor\n",
    "\n",
    "$\\theta^{(1)} = \\begin{bmatrix}\n",
    "30 & 20 & 20 \\\\\n",
    "10 & -20 & -20\n",
    "\\end{bmatrix} \\quad\n",
    "\\theta^{(2)} = \\begin{bmatrix}\n",
    "-10 & 20 & 20\n",
    "\\end{bmatrix}$ \n",
    "\n",
    "<img src=\"./nm1.png\" width=\"50%\">"
   ]
  },
  {
   "cell_type": "markdown",
   "metadata": {},
   "source": [
    "---\n",
    "## Zadatak 3\n",
    "\n",
    "Neka je zadana kriterijska funkcija $$J(\\theta) = - \\sum\\limits_{i=1}^{m} [y^{(i)}\\log{h_{\\theta}(x^{(i)}) + (1-y^{(i)})\\log{(1-h_{\\theta}(x^{(i)})})}],$$ gdje je za svaki $i$, $y^{(i)}$ stvarna vrijednost podatka, a $h_{\\theta}(x^{(i)})$ predikcija. <br> Ako su neuroni u završnom sloju označeni sa $a_k$, pokažite da je derivacije te funkcije s obzirom na $a_k$, sa sigmoid aktivacijskom funkcijom zadovoljava $\\frac{\\partial J}{\\partial a_k} = h_{\\theta}(x^{(k)}) - y^{(k)}$. <br> (Uzmite kriterijsku funkciju za jedan podatak $i$). "
   ]
  },
  {
   "cell_type": "markdown",
   "metadata": {},
   "source": [
    "# Vaš odgovor\n",
    "\n",
    "$\n",
    "h_\\theta (x^{(k)}) = \\sigma(a_k)\\\\\n",
    "\\frac{\\partial J(\\theta)}{\\partial a_k} \\\\= - [y^{(k)}\\frac{1}{\\sigma(a_k)}\\sigma(a_k)(1-\\sigma(a_k)) - (1-y^{(i)})\\frac{1}{1-\\sigma(a_k)}\\sigma(a_k)(1-\\sigma(a_k))]\\\\\n",
    "= y^{(k)}(\\sigma(a_k)-1)+(1-y^{(i)})\\sigma(a_k)\\\\\n",
    "=\\sigma(a_k)y^{(k)} - y^{(k)} + \\sigma(a_k) - y^{k}\\sigma(a_k)\\\\\n",
    "=\\sigma(a_k) - y^{(k)}\\\\\n",
    "= h_\\theta(x^{(k)})- y^{(k)}$"
   ]
  },
  {
   "cell_type": "markdown",
   "metadata": {},
   "source": [
    "---\n",
    "## Zadatak 4 \n",
    "Zadani su vam regresijski podaci `X,y`.  Proučite dimenzije podataka i odredite arhitekturu mreže i skicirajte ju (priložite sliku). Proizvoljno odredite aktivacijske funkcije i funkciju pogreške. Zatim napravite vektore težina odgovarajuće dimenzije (generirajte slučajne vektore) i napravite propagaciju unaprijed.  \n",
    "\n",
    "Napomena: Propagaciju unaprijed napravite ručno, koristeći `numpy`"
   ]
  },
  {
   "cell_type": "code",
   "execution_count": 8,
   "metadata": {},
   "outputs": [],
   "source": [
    "from sklearn.datasets import make_regression\n",
    "import numpy as np"
   ]
  },
  {
   "cell_type": "code",
   "execution_count": 10,
   "metadata": {},
   "outputs": [
    {
     "name": "stdout",
     "output_type": "stream",
     "text": [
      "(300, 6) (300,)\n",
      "966508082.3796725\n"
     ]
    }
   ],
   "source": [
    "\n",
    "# ne mijenjajte sljedeci redak\n",
    "X,y = make_regression(n_samples = 300, n_features = 6, random_state=102)\n",
    "\n",
    "# Vaš kod\n",
    "def sigmoid(x):\n",
    "    return 1.0 / (1.0 + np.exp(-x))\n",
    "print(X.shape, y.shape)\n",
    "inputSize = 6\n",
    "hiddenSize = 300\n",
    "outputSize = 1\n",
    "w1 = np.random.randn(inputSize, hiddenSize)\n",
    "w2 = np.random.randn(hiddenSize, outputSize)\n",
    "\n",
    "a2 = X.dot(w1)\n",
    "z2 = sigmoid(a2)\n",
    "y_pred = z2.dot(w2)\n",
    "loss_f = 0.5 * np.square(y_pred - y).sum()\n",
    "print(loss_f)"
   ]
  },
  {
   "cell_type": "markdown",
   "metadata": {},
   "source": [
    "---\n",
    "\n",
    "## Zadatak 5\n",
    "\n",
    "Ovaj skup skup sadrži $8124$ uzoraka gljiva i njihove $23$ karakteristike. Svakoj gljivi je pridružena klasa $e$ kao *jestiva*(*engl.* edible), $p$ kao *otvorna*(*engl. poisonous*) ili $u$ kao *nepoznato*(*unknown*). <br>\n",
    "Ostale varijable su kategoričke i tipa su *boolean* ili *string*. Uglavnom su stringovi opisni. Npr. značajka $cap-shape$ može poprimiti vrijednosti \n",
    "- bell=b\n",
    "- conical=c\n",
    "- convex=x\n",
    "- flat=f\n",
    "- knobbed=k\n",
    "- sunken=s\n",
    "\n",
    "- Potrebno je upoznati se sa skupom podataka te značajke koje nisu numeričke pretvoriti u numeričke kako bismo s njima mogli dalje računati. \n",
    "- Podijelite skup podataka na skup za treniranje i testiranje.\n",
    "- Odredite dimenzije podataka (odredite dimenzije ulaznog i izlaznog sloja neuronske mreže).\n",
    "- Proizvoljno odaberite arhitekturu skrivenih slojeva.\n",
    "- Implementirajte vašu neuronsku mrežu.\n",
    "- Provedite postupak učenja neuronske mreže.\n",
    "- Testirajte dobiveni model tako da ispišete neku od metrika (npr. `accuracy`).\n",
    "\n",
    "Napomena: Model napravite i trenirajte koristeći `PyTorch`"
   ]
  },
  {
   "cell_type": "code",
   "execution_count": null,
   "metadata": {},
   "outputs": [],
   "source": [
    "# Vaš kod"
   ]
  }
 ],
 "metadata": {
  "kernelspec": {
   "display_name": "Python 3",
   "language": "python",
   "name": "python3"
  },
  "language_info": {
   "codemirror_mode": {
    "name": "ipython",
    "version": 3
   },
   "file_extension": ".py",
   "mimetype": "text/x-python",
   "name": "python",
   "nbconvert_exporter": "python",
   "pygments_lexer": "ipython3",
   "version": "3.8.5"
  }
 },
 "nbformat": 4,
 "nbformat_minor": 4
}
